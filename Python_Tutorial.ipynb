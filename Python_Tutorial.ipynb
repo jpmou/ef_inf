{
  "nbformat": 4,
  "nbformat_minor": 0,
  "metadata": {
    "kernelspec": {
      "display_name": "Python 3",
      "language": "python",
      "name": "python3"
    },
    "language_info": {
      "codemirror_mode": {
        "name": "ipython",
        "version": 3
      },
      "file_extension": ".py",
      "mimetype": "text/x-python",
      "name": "python",
      "nbconvert_exporter": "python",
      "pygments_lexer": "ipython3",
      "version": "3.7.3"
    },
    "colab": {
      "name": "elab2go-Python-Tutorial.ipynb",
      "provenance": [],
      "collapsed_sections": [],
      "toc_visible": true
    }
  },
  "cells": [
    {
      "cell_type": "markdown",
      "metadata": {
        "id": "cCJCpN4GlwvG"
      },
      "source": [
        "<div style=\"width:100%;text-align: left; padding: 10px;\">\n",
        "<h1> elab2go Demo-PY1: Python-Tutorial \n",
        "</h1>\n",
        "<p>\n",
        "Das vorliegende Jupyter Notebook des <a href=\"http://elab2go.de\">elab2go Mobile Engineering Lab</a> vermittelt grundlegende Anweisungen der Programmiersprache Python. Detaillierte Erläuterungen finden Sie auf elab2go.de im <a href=\"http://elab2go.de/demo-py1\">elab2go Python-Tutorial</a>.\n",
        "<br>Die Python-Anweisungen können in beliebiger Reihenfolge ausgeführt werden, einzige Ausnahme: die Zellen zur objektorientierten Programmierung mit Python müssen in der angegebenen Reihenfolge ausgeführt werden.\n",
        "</p>   \n",
        "</div>"
      ]
    },
    {
      "cell_type": "markdown",
      "metadata": {
        "id": "7zjukj9qlwvI"
      },
      "source": [
        "<h2> 1. Vorbereitung</h2>\n",
        "<p>\n",
        "Die Details der Verwendung von Jupyter Notebook sind auf elab2go.de im Abschnitt <a href=\"<?php echo($appRootPath);?>/demo-py1/jupyter-notebooks.php\"><b>Jupyter Notebook verwenden</b></a>\t\n",
        "beschrieben.\n",
        "</p>"
      ]
    },
    {
      "cell_type": "markdown",
      "metadata": {
        "id": "s_v4ju_7lwvK"
      },
      "source": [
        "# 2. Erste Codezeilen mit Python\n",
        "\n"
      ]
    },
    {
      "cell_type": "markdown",
      "metadata": {
        "id": "Jp_XauXgKXi2"
      },
      "source": [
        "## 2-1 Hello-World Programm\n",
        "Das Hello-World-Programm ist das kleinste lauffähige Programm in Python und gibt den Text \"Hello World\" auf der Konsole aus. Es verwendet für die Ausgabe die print-Funktion, die als Parameter die Zeichenkette \"Hello World\" erhält."
      ]
    },
    {
      "cell_type": "code",
      "metadata": {
        "id": "eONj3DuBlwvL",
        "colab": {
          "base_uri": "https://localhost:8080/"
        },
        "outputId": "767b4561-bf6d-4d3e-9da1-a56b53fdef70"
      },
      "source": [
        "# Ausgabe mit Hilfe der print-Funktion\n",
        "print(\"Hello World!\")"
      ],
      "execution_count": null,
      "outputs": [
        {
          "output_type": "stream",
          "name": "stdout",
          "text": [
            "Hello World!\n"
          ]
        }
      ]
    },
    {
      "cell_type": "markdown",
      "metadata": {
        "id": "-1lVDGkJlwvS"
      },
      "source": [
        "##2-2 Einrückungen für die Strukturierung von Codeblöcken\n",
        "Python verwendet Einrückungen und Leerzeichen, um Codeblöckezu definieren, d.h. zusammengehörige Befehle anzugeben.         "
      ]
    },
    {
      "cell_type": "code",
      "metadata": {
        "id": "5GFVRLeflwvT",
        "colab": {
          "base_uri": "https://localhost:8080/"
        },
        "outputId": "445b6ac5-810d-4ec7-ed5e-d9907121dd0c"
      },
      "source": [
        "# Richtig: print ist eingerückt\n",
        "if 4 > 0 :\n",
        "    print(\"Positiv!\") \n",
        "    print(\"4 ist größer als 0\") "
      ],
      "execution_count": null,
      "outputs": [
        {
          "output_type": "stream",
          "name": "stdout",
          "text": [
            "Positiv!\n",
            "4 ist größer als 0\n"
          ]
        }
      ]
    },
    {
      "cell_type": "code",
      "metadata": {
        "id": "zJy-Jb9_lwvZ",
        "colab": {
          "base_uri": "https://localhost:8080/",
          "height": 134
        },
        "outputId": "92433872-2b41-4557-9075-241cef9ada0b"
      },
      "source": [
        "# Falsch: print ist nicht eingerückt \n",
        "if 4 > 0 :\n",
        "print(\"4 ist größer als 0\") # Falsch!! "
      ],
      "execution_count": null,
      "outputs": [
        {
          "output_type": "error",
          "ename": "IndentationError",
          "evalue": "ignored",
          "traceback": [
            "\u001b[0;36m  File \u001b[0;32m\"<ipython-input-5-125bef5f0189>\"\u001b[0;36m, line \u001b[0;32m3\u001b[0m\n\u001b[0;31m    print(\"4 ist größer als 0\") # Falsch!!\u001b[0m\n\u001b[0m        ^\u001b[0m\n\u001b[0;31mIndentationError\u001b[0m\u001b[0;31m:\u001b[0m expected an indented block\n"
          ]
        }
      ]
    },
    {
      "cell_type": "markdown",
      "metadata": {
        "id": "rds_cKFSJvsq"
      },
      "source": [
        "## 2-3 Kommentare in Python"
      ]
    },
    {
      "cell_type": "code",
      "metadata": {
        "id": "j-7MbOf7Jttf"
      },
      "source": [
        "# Einzeiliger Kommentar\n",
        "# Noch ein Kommentar\n",
        "\n",
        "\"\"\"\n",
        "Mehrzeiliger \n",
        "Kommentar\n",
        "\"\"\""
      ],
      "execution_count": null,
      "outputs": []
    },
    {
      "cell_type": "markdown",
      "metadata": {
        "id": "SJZGxj__lwvd"
      },
      "source": [
        "# 3. Variablen und Datentypen\n",
        "<p>\n",
        "In Python werden Variablen erstellt, sobald sie einen Wert zugewiesen bekommen. \n",
        "<br>Variablen werden mit einem Namen und einem Wert definiert.\n",
        "</p>"
      ]
    },
    {
      "cell_type": "code",
      "metadata": {
        "id": "WCSqxBlYlwve",
        "colab": {
          "base_uri": "https://localhost:8080/"
        },
        "outputId": "7cda01ad-c38f-4a70-911c-e255ffaf8033"
      },
      "source": [
        "# name hat den Datentyp String\n",
        "name = \"HS KL\"   \n",
        "# jahr hat den Datentyp Integer\n",
        "jahr = 2019      \n",
        "# isOffen ist ein Wahrheitswert\n",
        "isOffen = True         \n",
        "# Zuweisungen: eine pro Zeile\n",
        "x = 1\n",
        "y = 2\n",
        "# oder mehrere in einer Zeile\n",
        "x, y = 1, 2 # x = 1, y = 2\n",
        "# Ausgabe \n",
        "print(name, \"\\n\", jahr, \"\\n\", isOffen,\"\\n\", x, y)"
      ],
      "execution_count": null,
      "outputs": [
        {
          "output_type": "stream",
          "name": "stdout",
          "text": [
            "HS KL \n",
            " 2019 \n",
            " True \n",
            " 1 2\n"
          ]
        }
      ]
    },
    {
      "cell_type": "markdown",
      "metadata": {
        "id": "0StW8dP9lwvr"
      },
      "source": [
        "##3-1 Datentypen\n",
        "\n",
        "Bei der Definition einer Variablen muss der Datentyp nicht angegeben werden, sondern wird durch die Zuweisung eines Wertes dynamisch ermittelt. Z.B. wird durch x = 5 der Datentyp der Variablen x als ganze Zahl (int) ermittelt. Dies kann man mit Hilfe der type()-Funktion überprüfen, die den Datentyp einer Variablen ausgibt.\n",
        "Durch Typumwandlung kann jedoch der Datentyp explizit festgelegt werden, z.B. durch x = float(5) wird der Datentyp explizit auf float festgelegt, oder durch x = str(\"Hallo Welt\") auf string."
      ]
    },
    {
      "cell_type": "code",
      "metadata": {
        "id": "GqDnrYHLlwvr",
        "colab": {
          "base_uri": "https://localhost:8080/"
        },
        "outputId": "b4a61a3f-77b0-474f-a853-5edd1829e53c"
      },
      "source": [
        "# Datentyp von x \n",
        "# ist implizit int\n",
        "x = 5\n",
        "print(type(x)) # Ausgabe: class'int'\n",
        "# Datentyp von x \n",
        "# wird auf float festgelegt\n",
        "x = float(5) \n",
        "print(type(x)) # Ausgabe: class'float'"
      ],
      "execution_count": null,
      "outputs": [
        {
          "output_type": "stream",
          "name": "stdout",
          "text": [
            "<class 'int'>\n",
            "<class 'float'>\n"
          ]
        }
      ]
    },
    {
      "cell_type": "markdown",
      "metadata": {
        "id": "50PJpfgUK9w_"
      },
      "source": [
        "#3-2 Numerische Datentypen\n",
        "Es gibt in Python drei Hauptdatentypen für Zahlen: int (ganze Zahlen), float (Fließkommazahlen) und complex (komplexe Zahlen), sowie einen Datentyp Decimal für korrekt gerundete Fließpunktarithmetik. Der in Python eingebaute Datentyp float hat doppelte Genauigkeit und entspricht dem Datentyp double in C oder Java."
      ]
    },
    {
      "cell_type": "code",
      "metadata": {
        "id": "BdpVd9rHlwvl",
        "colab": {
          "base_uri": "https://localhost:8080/"
        },
        "outputId": "1473c231-72b1-4f97-ed5d-b1f5d262ac89"
      },
      "source": [
        "x = 5 # int    \n",
        "pi = 3.14  # float\n",
        "# Komplexe Zahl z = 2 + 3 i\n",
        "z = complex(2, 3) \n",
        "print(x, pi, z)\n",
        "# Typecasting\n",
        "x = int(pi)\t# x = 3\n",
        "z = int(\"3\") # z = 3\n",
        "print(x, z)"
      ],
      "execution_count": null,
      "outputs": [
        {
          "output_type": "stream",
          "name": "stdout",
          "text": [
            "5 3.14 (2+3j)\n",
            "3 3\n"
          ]
        }
      ]
    },
    {
      "cell_type": "markdown",
      "metadata": {
        "id": "K6LjaMdAlwvw"
      },
      "source": [
        "## 3-3 Text-Datentypen: Strings\n",
        "Der Datentyp String beschreibt Texte bzw. Zeichenketten (ein Text ist eine Zeichenkette, also eine Folge von Zeichen). Mit der Angabe eines Index, der bei 0 anfängt, kann man spezifische Zeichen aus der Zeichenkette auslesen. Es können auch negative Indizes verwendet werden, dann wird die Zeichenkette vom Ende durchlaufen. Für eine Zeichenkette x erhält man mit x[0] das erste Element, mit x[-1] das letzte Element, mit x[i:j] die Zeichen von i inklusive bis j exklusiv."
      ]
    },
    {
      "cell_type": "code",
      "metadata": {
        "id": "gOD2-oiFMBtl"
      },
      "source": [
        "x = \"Hallo!\"\n",
        "print(x[0]) # H\n",
        "print(x[-1]) # !\n",
        "\n",
        "print(x[1:6]) # allo!\n",
        "print(x[-4:-1]) # llo\n",
        "\n",
        "print(len(x)) # 6\n",
        "\n",
        "x = \" Hallo aus Kaiserslautern \"\n",
        "print(x.strip())"
      ],
      "execution_count": null,
      "outputs": []
    },
    {
      "cell_type": "markdown",
      "metadata": {
        "id": "rfl6Qnyrlwv6"
      },
      "source": [
        "# <h2> 4. Operatoren in Python </h2>\n",
        "<p>\n",
        "Mit Operatoren werden Operationen an Variablen und Werten ausgeführt. Python unterteilt die Operatoren in folgende Gruppen:</p>\n",
        "        <ul>\n",
        "            <li> Arithmetische Operatoren: führen allgemeine mathematische Operationen aus.</li>\n",
        "            <li> Zuweisungsoperatoren: weisen Variablen Werte zu.</li>\n",
        "            <li> Vergleichsoperatoren: vergleichen zwei Werte.</li>\n",
        "            <li> Logische Operatoren: kombinieren logische Ausdrücke, die dann als wahr oder falsch ausgewertet werden.</li>\n",
        "            <li> Identitätsoperatoren: vergleichen Objekte</li>\n",
        "            <li> Mitgliedsoperatoren: prüfen, ob ein Objekt in einer Sequenz liegt.</li>\n",
        "            <li> Bitweise Operatoren: führen eine bitweise Verknüpfung der Operanden aus. </li>\n",
        "        </ul>"
      ]
    },
    {
      "cell_type": "code",
      "metadata": {
        "id": "jyRhhVTZlwv7",
        "colab": {
          "base_uri": "https://localhost:8080/"
        },
        "outputId": "ec1d7132-964d-4efe-ce90-60d1e2bb123b"
      },
      "source": [
        "# Arithmetische Operatoren\n",
        "x, y = 10, 3\n",
        "# Logische Operatoren\n",
        "print('Arithmetische Operatoren')\n",
        "print(x+y)\n",
        "print(x-y)\n",
        "print(x*y)\n",
        "print(x/y)\n",
        "print(x//y) # Ganzzahldivision, 10 // 3 = 3\n",
        "print(x % y) # Modulo, Rest der Ganzzahldivision: 10 % 3 = 1\n",
        "# Logische Operatoren\n",
        "print('Logische Operatoren')\n",
        "print(True and False) # Ausgabe: False\n",
        "print (1 or 0) # Ausgabe: 1\n",
        "print (not 1) # Ausgabe: False\n",
        "# Vergleichsoperatoren\n",
        "print('Vergleichsoperatoren')\n",
        "print(x is y) # Ausgabe_ False\n",
        "print(x is x) # Ausgabe: Trues"
      ],
      "execution_count": null,
      "outputs": [
        {
          "output_type": "stream",
          "text": [
            "Arithmetische Operatoren\n",
            "13\n",
            "7\n",
            "30\n",
            "3.3333333333333335\n",
            "3\n",
            "1\n",
            "Logische Operatoren\n",
            "False\n",
            "1\n",
            "False\n",
            "Vergleichsoperatoren\n",
            "False\n",
            "True\n"
          ],
          "name": "stdout"
        }
      ]
    },
    {
      "cell_type": "markdown",
      "metadata": {
        "id": "eXb1I_3-lwv-"
      },
      "source": [
        "# 5. Eingabe und Ausgabe"
      ]
    },
    {
      "cell_type": "markdown",
      "metadata": {
        "id": "CKzw9Lv_lwv-"
      },
      "source": [
        "Die Eingabe erfolgt mit Hilfe der \"input()\"-Funktion. Der Befehl x = input() erzeugt ein Eingabefeld, und alles, was man darin eingibt, wird in die Variable x gespeichert. Soll die Eingabe als ein bestimmter Datentyp interpretiert werden, muss sie mit Hilfe einer entsprechenden Funktion (z.B. int(), oder str()) umgewandelt werden."
      ]
    },
    {
      "cell_type": "code",
      "metadata": {
        "id": "bLWW8-P7lwv_"
      },
      "source": [
        "# Eingabe\n",
        "print(\"Zahl eingeben:\")\n",
        "x = int(input())\n",
        "print(\"Noch eine Zahl eingeben:\")\n",
        "y = int(input())\n",
        "print(\"Ihre Eingabe: x = %d, y = %d\" % (x, y))"
      ],
      "execution_count": null,
      "outputs": []
    },
    {
      "cell_type": "markdown",
      "metadata": {
        "id": "f91qHVaGlwwC"
      },
      "source": [
        "Formatierte Ausgaben, die Texte und die Inhalte von Variablen kombinieren, können in Python auf verschiedene Arten umgesetzt werden:\n",
        "\n",
        "* Inhalte numerischer Variablen mit Hilfe der str-Funktion in Zeichenketten  umwandeln und mit Hilfe des +-Operators verschiedene Zeichenketten aneinanderfügen.\n",
        "* Formatierte Ausgabe mit Hilfe einer formatierenden Zeichenkette und der Platzhalter %d, %f, %s\n",
        "* Formatierte Ausgabe mit Hilfe der String-Methode format()"
      ]
    },
    {
      "cell_type": "code",
      "metadata": {
        "id": "aT1VhGwXlwwC"
      },
      "source": [
        "# Beispiel erzeugt drei Mal dieselbe Ausgabe\n",
        "# Ausgabe: x=5, y=20.5, Summe=25.50\n",
        "x, y = 5, 20.5\n",
        "sum = x + y\n",
        "# Ausgabe eines Textes mit angefügter float-Variablen\n",
        "print(\"x=\" + str(x) + \" y=\" + str(y) + \" Summe=\" + str(sum)) \n",
        "\n",
        "# Formatierte Ausgabe mit Platzhaltern (C-Style)\n",
        "print(\"x=%d, y=%.1f, Summe=%.2f\" % (x, y, x + y)) \n",
        "# Formatierte Ausgabe mit format\n",
        "print(\"x={0:d}, y={1:.1f}, Summe={2:.2f}\".format(x, y, x+y))"
      ],
      "execution_count": null,
      "outputs": []
    },
    {
      "cell_type": "markdown",
      "metadata": {
        "id": "4zHm3CXTlwwF"
      },
      "source": [
        "# 6. Bedingte Verzweigungen\n",
        "<p>\n",
        "Eine <b>bedingte Verzweigung</b> ist eine Kontrollstruktur, die festlegt, welcher von zwei (oder mehr) Anweisungsblöcken, abhängig von einer (oder mehreren) Bedingungen, ausgeführt wird. Bedingte Verzweigungen werden in Python wie in fast allen Programmiersprachen mit der if-else-Anweisung beschrieben. Das Schlüsselwort \"elif\" in Python ist genau wie: \"Wenn die vorherigen Bedingungen nicht zutreffen, versucht es mit dieser Bedingung\" und das Schlüsselwort \"else\" fängt alles ab, was von den vorhergehenden Bedingungen nicht erfasst wird.\n",
        "</p>"
      ]
    },
    {
      "cell_type": "code",
      "metadata": {
        "id": "-Y5kyNJslwwF",
        "colab": {
          "base_uri": "https://localhost:8080/"
        },
        "outputId": "61ff46ab-11f0-48e1-bce5-cdb7b5c064a4"
      },
      "source": [
        "x, y = 1, 4  # x = 1 und y = 4\n",
        "if x > y :\n",
        "  print(\"%d > %d\" % (x, y));\n",
        "elif  x == y :\n",
        "  print(\"%d == %d\" % (x, y));\n",
        "else :\n",
        "  print(\"%d < %d\" % (x, y));"
      ],
      "execution_count": null,
      "outputs": [
        {
          "output_type": "stream",
          "name": "stdout",
          "text": [
            "1 < 4\n"
          ]
        }
      ]
    },
    {
      "cell_type": "markdown",
      "metadata": {
        "id": "foD2uDNelwwL"
      },
      "source": [
        "<h2> 7. Schleifen</h2>\n",
        "<p>Schleifen ermöglichen es, Anweisungen wiederholt auszuführen, und zwar so lange, wie eine Ausführungsbedingung erfüllt ist. Python verfügt über zwei Schleifenbefehle: <b>\"while\"-Schleife</b> und <b>\"for\"-Schleife</b>. </p>"
      ]
    },
    {
      "cell_type": "markdown",
      "metadata": {
        "id": "KC3IZQP2dA8Y"
      },
      "source": [
        "<h3>while-Schleife</h3>\n",
        "Beispiel: Berechne Summe der ersten 5 Zahlen mit while-Schleife"
      ]
    },
    {
      "cell_type": "code",
      "metadata": {
        "id": "rwZ9IgoolwwM",
        "colab": {
          "base_uri": "https://localhost:8080/"
        },
        "outputId": "2540fd05-4179-4491-b6ac-25fae6e5bf0e"
      },
      "source": [
        "# Berechne Summe der ersten 5 Zahlen mit while-Schleife\n",
        "# 1 + 2 + 3 + 4 + 5 = 15\n",
        "sum = 0 \n",
        "i = 1 \n",
        "while i <= 5: \n",
        "    print(str(i) + \"+\") # Ausgabe der Zählvariablen \n",
        "    sum += i # Addiere i zur Variable sum hinzu \n",
        "    i += 1 # Inkrementiere i \n",
        "print(\"Summe = \" + str(sum)) "
      ],
      "execution_count": null,
      "outputs": [
        {
          "output_type": "stream",
          "text": [
            "1+\n",
            "2+\n",
            "3+\n",
            "4+\n",
            "5+\n",
            "Summe = 15\n"
          ],
          "name": "stdout"
        }
      ]
    },
    {
      "cell_type": "markdown",
      "metadata": {
        "id": "dw-WpuUZgLu4"
      },
      "source": [
        "<h3>for-Schleife</h3>\n",
        "Beispiel: Berechne Summe der ersten 5 Zahlen mit for-Schleife"
      ]
    },
    {
      "cell_type": "code",
      "metadata": {
        "id": "kVKSUivNlwwP"
      },
      "source": [
        "sum = 0\n",
        "for i in range(1,6):\n",
        "    print(str(i) + \"+\")\n",
        "    sum += i\n",
        "print(\"Summe = \" + str(sum))"
      ],
      "execution_count": null,
      "outputs": []
    },
    {
      "cell_type": "markdown",
      "metadata": {
        "id": "1GbXsROGlwwV"
      },
      "source": [
        "# 8. Datenstrukturen\n",
        "<p>\n",
        "In Python gibt es vier Datenstrukturen für Listen und Mengen: Listen (engl. lists), Tupel (engl. tuples), Mengen (engl. sets) und Dictionary (engl. dictionary). Python-Datenstrukturen können grundsätzlich unterschiedliche Datentypen enthalten, d.h. Objekte beliebigen Datentyps. Jedoch muss man bei der Durchführung von Operationen auf Elementen der Datenstruktur auf Kompatibilität achten. Die angeführten Python-Datenstrukturen unterscheiden sich darin, ob sie änderbar sind (oder nicht), geordnet sind (oder nicht), und Duplikate zulassen (oder nicht).\n",
        "    </p>"
      ]
    },
    {
      "cell_type": "code",
      "metadata": {
        "id": "A_GgrVqQlwwW",
        "colab": {
          "base_uri": "https://localhost:8080/"
        },
        "outputId": "70c483e1-186a-4990-a9e9-1deb10b35085"
      },
      "source": [
        "# Liste\n",
        "studenten = [\"Max Muster\", \"Anna Test\", \"John Doe\"]\n",
        "print(studenten) # ['Max Muster', 'Anna Test', 'John Doe']\n",
        "studenten[2] = \"Jane Doe\" # Zuweisung\n",
        "print(studenten[0]) # Max Muster\n",
        "print(studenten[-1]) # Jane Doe\n",
        "print(studenten[1:3]) # ['Anna Test', 'Jane Doe']"
      ],
      "execution_count": null,
      "outputs": [
        {
          "output_type": "stream",
          "text": [
            "['Max Muster', 'Anna Test', 'John Doe']\n",
            "Max Muster\n",
            "Jane Doe\n",
            "['Anna Test', 'Jane Doe']\n"
          ],
          "name": "stdout"
        }
      ]
    },
    {
      "cell_type": "code",
      "metadata": {
        "id": "A17aRxJmlwwZ",
        "colab": {
          "base_uri": "https://localhost:8080/"
        },
        "outputId": "fb782bd8-c27d-4efb-93c0-7052e69e3163"
      },
      "source": [
        "# Tupel\n",
        "adresse = (\"Hochschule Kaiserslautern\", \"Schoenstrasse\", 11)\n",
        "print(adresse)      # ('Hochschule Kaiserslautern', 'Schoenstrasse', 11)\n",
        "print(adresse[-1])  # 11\n",
        "print(adresse[1:3])     # ('Schoenstrasse', 11)"
      ],
      "execution_count": null,
      "outputs": [
        {
          "output_type": "stream",
          "text": [
            "('Hochschule Kaiserslautern', 'Schoenstrasse', 11)\n",
            "11\n",
            "('Schoenstrasse', 11)\n"
          ],
          "name": "stdout"
        }
      ]
    },
    {
      "cell_type": "code",
      "metadata": {
        "id": "JOP_KbKLE7I6"
      },
      "source": [
        "# Fehler: Tupel darf nicht geändert werden\n",
        "adresse[0] = \"Morlauterer Strasse\""
      ],
      "execution_count": null,
      "outputs": []
    },
    {
      "cell_type": "code",
      "metadata": {
        "id": "Y3SBMqBNlwwc"
      },
      "source": [
        "# Mengen (Sets) \n",
        "menge1 = {1, 2, 3, 4, \"a\", \"b\", \"c\"}\n",
        "menge2 = {3, 4, 5, 6, \"c\"}\n",
        "menge1.add(8)       # neues Element hinzufügen\n",
        "menge2.discard(6)   #  Element löschen\n",
        "print(menge1) # {1, 2, 3, 4, 8, 'a', 'b', 'c'}\n",
        "print(menge2) # {3, 4, 5, 'c'}\n",
        "u = menge1.union(menge2) # Vereinigung (Union)\n",
        "print(u) # {1, 2, 3, 4, 5, 8, 'a', 'b', 'c'}\n",
        "diff = menge1.difference(menge2) # Differenz der beiden Mengen\n",
        "print(diff) # {1, 2, 8, 'a', 'b'}"
      ],
      "execution_count": null,
      "outputs": []
    },
    {
      "cell_type": "markdown",
      "metadata": {
        "id": "I1_AtaljtUJl"
      },
      "source": [
        "##Dictionary\n",
        "* Speichert Schlüssel-Wert-Paare\n",
        "* Der Schlüssel sollte eindeutig sein\n",
        "* Z.B. Telefonbuch (Schlüssel = Name, Wert = Telefonnummer) oder Studenten (Schlüssel = Matrikelnummer, Wert = Student)"
      ]
    },
    {
      "cell_type": "code",
      "metadata": {
        "id": "vx_k83Jnlwwf",
        "colab": {
          "base_uri": "https://localhost:8080/"
        },
        "outputId": "bb22c36a-6c6a-4714-b49c-9f321c6e44de"
      },
      "source": [
        "# Dictionary (Hashmap) \n",
        "telefonbuch = {\n",
        " \"Max Muster\" : \"0171 876654\",\n",
        " \"Anna Test\" : \"0151 987654\"\n",
        " }\n",
        "# Neuen Wert hinzufügen\n",
        "telefonbuch[\"John Doe\"] = \"0171 123456\" \n",
        "telefonbuch # Telefonbuch ausgeben\n",
        "# Wertaufruf mit Schlüsselwert\n",
        "annasNummer = telefonbuch.get(\"Anna Test\")  \n",
        "print(\"\\nAusgabe des Telefonbuchs\")\n",
        "print(telefonbuch) # 0151 987654\n",
        "print(\"\\nAusgabe der Schlüssel:\")\n",
        "for key in telefonbuch:\n",
        "    print(key)\n",
        "print(\"\\nAusgabe der Schlüssel-Wert-Paare:\")    \n",
        "for key, value in telefonbuch.items():\n",
        "    print(key, value)"
      ],
      "execution_count": null,
      "outputs": [
        {
          "output_type": "stream",
          "name": "stdout",
          "text": [
            "\n",
            "Ausgabe des Telefonbuchs\n",
            "{'Max Muster': '0171 876654', 'Anna Test': '0151 987654', 'John Doe': '0171 123456'}\n",
            "\n",
            "Ausgabe der Schlüssel:\n",
            "Max Muster\n",
            "Anna Test\n",
            "John Doe\n",
            "\n",
            "Ausgabe der Schlüssel-Wert-Paare:\n",
            "Max Muster 0171 876654\n",
            "Anna Test 0151 987654\n",
            "John Doe 0171 123456\n"
          ]
        }
      ]
    },
    {
      "cell_type": "markdown",
      "metadata": {
        "id": "TLHJSiqDlwwh"
      },
      "source": [
        "# 9. Funktionen in Python"
      ]
    },
    {
      "cell_type": "markdown",
      "metadata": {
        "id": "xxShzc8frLC_"
      },
      "source": [
        "Eine Funktion ist ein Codeblock, der nur ausgeführt wird, wenn er aufgerufen wird. Funktionen werden einmal definiert und können dann beliebig oft aufgerufen werden. Man kann Daten oder sogenannte Parameter, an eine Funktion übergeben. Eine Funktion kann auch Daten/Parameter zurückgeben. Damit eine Funktion Werte zurückgeben kann, benutzt man das Schlüsselwort \"return\".\n",
        "\n",
        "Funktionen kommen auf zweierlei Arten zum Einsatz: zum einen verwendet man vorhandene Funktionen der Python-Pakete, um gewisse Aufgaben durchzuführen. Zum anderen entwickelt man eigene Funktionen für Teilaufgaben und strukturiert damit größere Programme."
      ]
    },
    {
      "cell_type": "markdown",
      "metadata": {
        "id": "tQ1x386US9yA"
      },
      "source": [
        "## 9-1 Funktion ohne Parameter"
      ]
    },
    {
      "cell_type": "code",
      "metadata": {
        "colab": {
          "base_uri": "https://localhost:8080/"
        },
        "id": "UT6qn7U7S6zz",
        "outputId": "d888e85d-01be-4703-8161-987c47d6bb14"
      },
      "source": [
        "def my_func(): \n",
        "    print(\"Hallo!\")\n",
        "\n",
        "# Funktions-Aufrufe       \n",
        "my_func()\t# Ausgabe: Hallo!\n",
        "my_func()\t# Ausgabe: Hallo!"
      ],
      "execution_count": null,
      "outputs": [
        {
          "output_type": "stream",
          "name": "stdout",
          "text": [
            "Hallo!\n",
            "Hallo!\n"
          ]
        }
      ]
    },
    {
      "cell_type": "markdown",
      "metadata": {
        "id": "MWm565xaTLDf"
      },
      "source": [
        "## 9-2 Funktion mit Übergabeparameter"
      ]
    },
    {
      "cell_type": "code",
      "metadata": {
        "colab": {
          "base_uri": "https://localhost:8080/"
        },
        "id": "7Pf-spCFTZAn",
        "outputId": "e190ac92-e257-4638-a91c-662ef45e130a"
      },
      "source": [
        "def my_func(text):    \n",
        "    print(text)   \n",
        "# Funktions-Aufrufe:             \n",
        "my_func(\"Hallo\")\t# Ausgabe: Hallo\n",
        "my_func(\"zusammen!\") # Ausgabe: zusammen!"
      ],
      "execution_count": null,
      "outputs": [
        {
          "output_type": "stream",
          "name": "stdout",
          "text": [
            "Hallo\n",
            "zusammen!\n"
          ]
        }
      ]
    },
    {
      "cell_type": "markdown",
      "metadata": {
        "id": "6ZUFiQSUTi_C"
      },
      "source": [
        "## 9-3 Funktion mit Standard-Übergabeparameter"
      ]
    },
    {
      "cell_type": "code",
      "metadata": {
        "id": "8W9jfzDylwwi",
        "colab": {
          "base_uri": "https://localhost:8080/"
        },
        "outputId": "17969fbf-99a4-4e14-88c5-efe3cf6a58dd"
      },
      "source": [
        "#Funktion mit Standard-Übergabe-Parameter:           \n",
        "def my_func(text = \"kein Text übergegeben\"): \n",
        "    print(text)\n",
        "\n",
        " # Funktions-Aufrufe:           \n",
        "my_func()\t# Ausgabe: kein Text übergegeben\n",
        "my_func(\"Übergegebener Wert\")\t# Ausgabe: Übergegebener Wert\n",
        "my_func(text = \"Übergegebener Wert\")\t# Ausgabe:Übergegebener Wert"
      ],
      "execution_count": null,
      "outputs": [
        {
          "output_type": "stream",
          "name": "stdout",
          "text": [
            "kein Text übergegeben\n",
            "Übergegebener Wert\n",
            "Übergegebener Wert\n"
          ]
        }
      ]
    },
    {
      "cell_type": "code",
      "metadata": {
        "id": "fY-cy-7glwwl"
      },
      "source": [
        "#Funktionen mit Rückgabe-Parameter:           \n",
        "def my_func(x):  \n",
        "    return x*2 \n",
        "my_func(5)\t# Rückgabe des Wertes 10 "
      ],
      "execution_count": null,
      "outputs": []
    },
    {
      "cell_type": "code",
      "metadata": {
        "colab": {
          "base_uri": "https://localhost:8080/"
        },
        "id": "QiVGId38Rjui",
        "outputId": "63a0603b-29c4-4948-9170-e0d9b5f6d36b"
      },
      "source": [
        "def my_func(*x): \n",
        "    print(x[2]) \n",
        "my_func(4, 5, 6)\t# Ausgabe: 6"
      ],
      "execution_count": null,
      "outputs": [
        {
          "output_type": "stream",
          "name": "stdout",
          "text": [
            "6\n"
          ]
        }
      ]
    },
    {
      "cell_type": "markdown",
      "metadata": {
        "id": "To7Mr1uWlwwo"
      },
      "source": [
        "<h2>Bibliotheksfunktionen verwenden</h2>\n",
        "<p></p>"
      ]
    },
    {
      "cell_type": "markdown",
      "metadata": {
        "id": "xQmnjzSnlwwo"
      },
      "source": [
        "<p>In Python kann man mit Hilfe der import-Anweisung entweder eine komplette Programmbibliothek importieren, oder nur einzelne Funktionen der Programmbibliothek. Beim Import werden für die jeweiligen Bibliotheken oder Funktionen Alias-Namen vergeben: für pandas vergeben wir den Alias pd, etc.</p>\n",
        "\n",
        "<p>Beispiel:\n",
        "Erstellen eines Pandas-Dataframes für die Speicherung von Adressen</p>"
      ]
    },
    {
      "cell_type": "code",
      "metadata": {
        "id": "eh24UugZlwwp"
      },
      "source": [
        "import pandas as pd\n",
        "name = pd.Series([\"Max Muster\", \"Anna Test\", \"John Doe\"])\n",
        "adresse = pd.Series([\"Schoenstrasse 11\", \"Unter de Linden 2\", \"Amperstrasse 1\"])\n",
        "tel = pd.Series([\"0151 (345678)\", \"0171 (123456)\", \"0161 (987654)\"])\n",
        "df = pd.concat([name, adresse, tel], axis=1)\n",
        "print(name)"
      ],
      "execution_count": null,
      "outputs": []
    },
    {
      "cell_type": "code",
      "metadata": {
        "id": "mNS2mFWTlwwt"
      },
      "source": [
        "import pandas as pd\n",
        "adressbuch = {\n",
        " \"Name\": [\"Max Muster\", \"Anna Test\", \"John Doe\"],\n",
        " \"Adresse\": [\"Schoenstrasse 11\", \"Unter de Linden 2\", \"Amperstrasse 1\"],\n",
        " \"Telefonnummer\": [\"0151 (345678)\", \"0171 (123456)\", \"0161 (987654)\"]\n",
        " }\n",
        "df = pd.DataFrame(adressbuch)\n",
        "df"
      ],
      "execution_count": null,
      "outputs": []
    },
    {
      "cell_type": "markdown",
      "metadata": {
        "id": "sXswGe31lwwy"
      },
      "source": [
        "## 10. Objektorientierte Programmierung in Python"
      ]
    },
    {
      "cell_type": "markdown",
      "metadata": {
        "id": "lYJ-WMdKq1Un"
      },
      "source": [
        "Python ist eine objektorientierte Programmiersprache. Fast alles in Python ist ein Objekt inkl. seiner Eigenschaften und Methoden. Eine Klasse ist ein Objekt-Konstruktor zum Erstellen von Objekten der gleichen Klasse. In Python benutzt man für Klassendefinition das Schlüsselwort \"class\". Eine Methode einer Klasse ist eine Funktion, die innerhalb einer Klasse definiert wird und als ersten Parameter eine Referenz (\"self\") auf die Instanz enthält, von der sie aufgerufen wurde."
      ]
    },
    {
      "cell_type": "markdown",
      "metadata": {
        "id": "4IrJPF8Mlwwy"
      },
      "source": [
        "### Klassen definieren und Klassenobjekte erzeugen\n"
      ]
    },
    {
      "cell_type": "markdown",
      "metadata": {
        "id": "iCpj9nvkqtKa"
      },
      "source": [
        "Python-Klassen haben eine \"__init __ ()\"-Methode, die implizit beim Erstellen eines neuen Klassenobjektes ausgeführt wird. Die \"__init __ ()\"-Methode wird verwendet, um Objekteigenschaften zu setzen oder andere Vorgänge, die beim Erstellen des Objekts erforderlich sind, durchzuführen.\n",
        "\n",
        "**Beispiel**: Wir deklarieren eine Klasse Auto, mit der wir neue Auto-Objekte erzeugen wollen. Ein Auto hat die Eigenschaften Hersteller und Modell und eine Methode \"ausgeben()\", die die Eigenschaften des Autos zu einer Zeichenkette zusammenbaut und ausgibt."
      ]
    },
    {
      "cell_type": "code",
      "metadata": {
        "id": "LNzT7H65lwwz"
      },
      "source": [
        "class Auto:\n",
        "    def __init__(self, hersteller, modell):\n",
        "        self.hersteller = hersteller\n",
        "        self.modell = modell       \n",
        "    def ausgeben(self):\n",
        "        print(\"Hersteller: \" + self.hersteller + \", Modell: \" + self.modell)\n",
        "    \n",
        "# Erstelle neue Klassenobjekte, gebe sie aus, und lösche sie wieder\n",
        "my_auto1 = Auto(\"Audi\", \"A3\") \n",
        "my_auto2 = Auto(\"BMW\", \"i3\")\n",
        "my_auto1.ausgeben() # Ausgabe: Hersteller: Audi, Modell: A3\n",
        "my_auto2.ausgeben() # Ausgabe: Hersteller: BMW, Modell: i3\n",
        "del my_auto1\n",
        "del my_auto2"
      ],
      "execution_count": null,
      "outputs": []
    },
    {
      "cell_type": "markdown",
      "metadata": {
        "id": "IBWNaPKflww3"
      },
      "source": [
        "### Vererbung in Python"
      ]
    },
    {
      "cell_type": "code",
      "metadata": {
        "id": "rvvNpPLflww4"
      },
      "source": [
        "# Basisklasse für Fahrzeuge\n",
        "class Fahrzeug: \n",
        "    def __init__(self, hersteller, modell):\n",
        "        self.hersteller = hersteller\n",
        "        self.modell = modell\n",
        "    def ausgeben(self):\n",
        "        print(\"Hersteller: \" + self.hersteller + \", Modell: \" + self.modell)\n",
        "# Subklasse für Autos        \n",
        "class Auto(Fahrzeug): \n",
        "    def __init__(self, hersteller, modell, farbe):\n",
        "        super().__init__(hersteller, modell)\n",
        "        self.farbe = farbe\n",
        "    def farbe_ausgeben(self):\n",
        "        print(\"Auto: Farbe: \" + self.farbe)\n",
        " # Erstellung eines Klassenobjektes und Ausführen der Methoden\n",
        "my_auto = Auto(\"Audi\", \"A3\", \"rot\")\n",
        "my_auto.ausgeben() # Methode geerbt von Fahrzeug-Klasse\n",
        "my_auto.farbe_ausgeben() # zusätzl. Methode aus Auto-Klasse"
      ],
      "execution_count": null,
      "outputs": []
    },
    {
      "cell_type": "code",
      "metadata": {
        "id": "L78nEE7Alww7"
      },
      "source": [
        "# Subklasse für LKWs\n",
        "class LKW(Fahrzeug):\n",
        "    pass\n",
        "    def ausgeben(self):\n",
        "        print(\"LKW: Hersteller: \" + self.hersteller + \", Modell: \" + self.modell)\n",
        "# Erstellung eines Klassenobjektes und Ausführen der Methoden\n",
        "my_lkw = LKW(\"Mercedes-Benz\", \"Unimog\")\n",
        "my_lkw.ausgeben()"
      ],
      "execution_count": null,
      "outputs": []
    }
  ]
}